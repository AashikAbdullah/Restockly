{
 "cells": [
  {
   "cell_type": "code",
   "execution_count": 1,
   "id": "36153aa7-50f6-4110-8f27-80d6511bfd9c",
   "metadata": {},
   "outputs": [],
   "source": [
    "import pandas as pd\n",
    "import numpy as np\n",
    "from sklearn.linear_model import LinearRegression\n",
    "import matplotlib.pyplot as plt\n",
    "import seaborn as sns\n",
    "import warnings\n",
    "warnings.filterwarnings(\"ignore\")"
   ]
  },
  {
   "cell_type": "code",
   "execution_count": 2,
   "id": "0cc2d1dc-cc44-478d-bd41-4bc25974aa9e",
   "metadata": {},
   "outputs": [],
   "source": [
    "# Load sample data\n",
    "df = pd.read_csv(r\"C:\\Users\\AASHIK\\Downloads\\restockly_final_complete\\sample_sales.csv\")\n",
    "df['Date'] = pd.to_datetime(df['Date'])"
   ]
  },
  {
   "cell_type": "code",
   "execution_count": 3,
   "id": "991068df-6faf-4dd6-a780-56cf8285f602",
   "metadata": {},
   "outputs": [
    {
     "name": "stdout",
     "output_type": "stream",
     "text": [
      "<class 'pandas.core.frame.DataFrame'>\n",
      "RangeIndex: 10020 entries, 0 to 10019\n",
      "Data columns (total 7 columns):\n",
      " #   Column         Non-Null Count  Dtype         \n",
      "---  ------         --------------  -----         \n",
      " 0   Product        10000 non-null  object        \n",
      " 1   Date           10000 non-null  datetime64[ns]\n",
      " 2   Quantity Sold  10000 non-null  float64       \n",
      " 3   Price          10000 non-null  float64       \n",
      " 4   Revenue        10000 non-null  float64       \n",
      " 5   Location       10000 non-null  object        \n",
      " 6   Category       10000 non-null  object        \n",
      "dtypes: datetime64[ns](1), float64(3), object(3)\n",
      "memory usage: 548.1+ KB\n"
     ]
    }
   ],
   "source": [
    "df.info()"
   ]
  },
  {
   "cell_type": "code",
   "execution_count": 4,
   "id": "f0345336-9ab9-4c70-9f3a-588542b73d22",
   "metadata": {},
   "outputs": [
    {
     "data": {
      "text/plain": [
       "(10020, 7)"
      ]
     },
     "execution_count": 4,
     "metadata": {},
     "output_type": "execute_result"
    }
   ],
   "source": [
    "df.shape"
   ]
  },
  {
   "cell_type": "code",
   "execution_count": 5,
   "id": "95b33d20-64d4-4cb7-9a82-bf9b06d0dca7",
   "metadata": {},
   "outputs": [
    {
     "data": {
      "text/plain": [
       "70140"
      ]
     },
     "execution_count": 5,
     "metadata": {},
     "output_type": "execute_result"
    }
   ],
   "source": [
    "df.size"
   ]
  },
  {
   "cell_type": "code",
   "execution_count": 6,
   "id": "4ab7e883-7c35-4c8b-ba81-00e3105f4c87",
   "metadata": {},
   "outputs": [
    {
     "data": {
      "text/plain": [
       "Product          20\n",
       "Date             20\n",
       "Quantity Sold    20\n",
       "Price            20\n",
       "Revenue          20\n",
       "Location         20\n",
       "Category         20\n",
       "dtype: int64"
      ]
     },
     "execution_count": 6,
     "metadata": {},
     "output_type": "execute_result"
    }
   ],
   "source": [
    "# Basic EDA\n",
    "null = df.isnull().sum()\n",
    "null"
   ]
  },
  {
   "cell_type": "code",
   "execution_count": 7,
   "id": "566a706e-d737-44ab-8c7b-22f589460dea",
   "metadata": {},
   "outputs": [
    {
     "data": {
      "text/html": [
       "<div>\n",
       "<style scoped>\n",
       "    .dataframe tbody tr th:only-of-type {\n",
       "        vertical-align: middle;\n",
       "    }\n",
       "\n",
       "    .dataframe tbody tr th {\n",
       "        vertical-align: top;\n",
       "    }\n",
       "\n",
       "    .dataframe thead th {\n",
       "        text-align: right;\n",
       "    }\n",
       "</style>\n",
       "<table border=\"1\" class=\"dataframe\">\n",
       "  <thead>\n",
       "    <tr style=\"text-align: right;\">\n",
       "      <th></th>\n",
       "      <th>Product</th>\n",
       "      <th>Date</th>\n",
       "      <th>Quantity Sold</th>\n",
       "      <th>Price</th>\n",
       "      <th>Revenue</th>\n",
       "      <th>Location</th>\n",
       "      <th>Category</th>\n",
       "    </tr>\n",
       "  </thead>\n",
       "  <tbody>\n",
       "    <tr>\n",
       "      <th>0</th>\n",
       "      <td>Product_11</td>\n",
       "      <td>2024-01-18</td>\n",
       "      <td>1.0</td>\n",
       "      <td>362.07</td>\n",
       "      <td>362.07</td>\n",
       "      <td>Chennai</td>\n",
       "      <td>Fashion</td>\n",
       "    </tr>\n",
       "    <tr>\n",
       "      <th>1</th>\n",
       "      <td>Product_29</td>\n",
       "      <td>2024-02-14</td>\n",
       "      <td>9.0</td>\n",
       "      <td>408.26</td>\n",
       "      <td>3674.34</td>\n",
       "      <td>Hyderabad</td>\n",
       "      <td>Fashion</td>\n",
       "    </tr>\n",
       "    <tr>\n",
       "      <th>2</th>\n",
       "      <td>Product_45</td>\n",
       "      <td>2024-03-23</td>\n",
       "      <td>7.0</td>\n",
       "      <td>143.69</td>\n",
       "      <td>1005.83</td>\n",
       "      <td>Chennai</td>\n",
       "      <td>Groceries</td>\n",
       "    </tr>\n",
       "    <tr>\n",
       "      <th>3</th>\n",
       "      <td>Product_30</td>\n",
       "      <td>2024-04-11</td>\n",
       "      <td>17.0</td>\n",
       "      <td>433.04</td>\n",
       "      <td>7361.68</td>\n",
       "      <td>Delhi</td>\n",
       "      <td>Beauty</td>\n",
       "    </tr>\n",
       "    <tr>\n",
       "      <th>4</th>\n",
       "      <td>Product_3</td>\n",
       "      <td>2024-01-28</td>\n",
       "      <td>11.0</td>\n",
       "      <td>150.73</td>\n",
       "      <td>1658.03</td>\n",
       "      <td>Mumbai</td>\n",
       "      <td>Stationery</td>\n",
       "    </tr>\n",
       "    <tr>\n",
       "      <th>...</th>\n",
       "      <td>...</td>\n",
       "      <td>...</td>\n",
       "      <td>...</td>\n",
       "      <td>...</td>\n",
       "      <td>...</td>\n",
       "      <td>...</td>\n",
       "      <td>...</td>\n",
       "    </tr>\n",
       "    <tr>\n",
       "      <th>10015</th>\n",
       "      <td>Product_20</td>\n",
       "      <td>2024-05-25</td>\n",
       "      <td>9.0</td>\n",
       "      <td>264.30</td>\n",
       "      <td>2378.70</td>\n",
       "      <td>Chennai</td>\n",
       "      <td>Fashion</td>\n",
       "    </tr>\n",
       "    <tr>\n",
       "      <th>10016</th>\n",
       "      <td>Product_10</td>\n",
       "      <td>2024-01-15</td>\n",
       "      <td>18.0</td>\n",
       "      <td>81.94</td>\n",
       "      <td>1474.92</td>\n",
       "      <td>Chennai</td>\n",
       "      <td>Stationery</td>\n",
       "    </tr>\n",
       "    <tr>\n",
       "      <th>10017</th>\n",
       "      <td>Product_37</td>\n",
       "      <td>2024-01-09</td>\n",
       "      <td>14.0</td>\n",
       "      <td>201.11</td>\n",
       "      <td>2815.54</td>\n",
       "      <td>Chennai</td>\n",
       "      <td>Fashion</td>\n",
       "    </tr>\n",
       "    <tr>\n",
       "      <th>10018</th>\n",
       "      <td>Product_12</td>\n",
       "      <td>2024-05-22</td>\n",
       "      <td>18.0</td>\n",
       "      <td>225.52</td>\n",
       "      <td>4059.36</td>\n",
       "      <td>Hyderabad</td>\n",
       "      <td>Beauty</td>\n",
       "    </tr>\n",
       "    <tr>\n",
       "      <th>10019</th>\n",
       "      <td>Product_50</td>\n",
       "      <td>2024-02-09</td>\n",
       "      <td>16.0</td>\n",
       "      <td>314.57</td>\n",
       "      <td>5033.12</td>\n",
       "      <td>Chennai</td>\n",
       "      <td>Fashion</td>\n",
       "    </tr>\n",
       "  </tbody>\n",
       "</table>\n",
       "<p>10000 rows × 7 columns</p>\n",
       "</div>"
      ],
      "text/plain": [
       "          Product       Date  Quantity Sold   Price  Revenue   Location  \\\n",
       "0      Product_11 2024-01-18            1.0  362.07   362.07    Chennai   \n",
       "1      Product_29 2024-02-14            9.0  408.26  3674.34  Hyderabad   \n",
       "2      Product_45 2024-03-23            7.0  143.69  1005.83    Chennai   \n",
       "3      Product_30 2024-04-11           17.0  433.04  7361.68      Delhi   \n",
       "4       Product_3 2024-01-28           11.0  150.73  1658.03     Mumbai   \n",
       "...           ...        ...            ...     ...      ...        ...   \n",
       "10015  Product_20 2024-05-25            9.0  264.30  2378.70    Chennai   \n",
       "10016  Product_10 2024-01-15           18.0   81.94  1474.92    Chennai   \n",
       "10017  Product_37 2024-01-09           14.0  201.11  2815.54    Chennai   \n",
       "10018  Product_12 2024-05-22           18.0  225.52  4059.36  Hyderabad   \n",
       "10019  Product_50 2024-02-09           16.0  314.57  5033.12    Chennai   \n",
       "\n",
       "         Category  \n",
       "0         Fashion  \n",
       "1         Fashion  \n",
       "2       Groceries  \n",
       "3          Beauty  \n",
       "4      Stationery  \n",
       "...           ...  \n",
       "10015     Fashion  \n",
       "10016  Stationery  \n",
       "10017     Fashion  \n",
       "10018      Beauty  \n",
       "10019     Fashion  \n",
       "\n",
       "[10000 rows x 7 columns]"
      ]
     },
     "execution_count": 7,
     "metadata": {},
     "output_type": "execute_result"
    }
   ],
   "source": [
    "df = df.dropna(axis=0)\n",
    "df"
   ]
  },
  {
   "cell_type": "code",
   "execution_count": 8,
   "id": "9d8ccb45-2df3-497c-a05a-a3778ceab249",
   "metadata": {},
   "outputs": [
    {
     "data": {
      "text/plain": [
       "1000"
      ]
     },
     "execution_count": 8,
     "metadata": {},
     "output_type": "execute_result"
    }
   ],
   "source": [
    "duplicates = df.duplicated().sum()\n",
    "duplicates"
   ]
  },
  {
   "cell_type": "code",
   "execution_count": 9,
   "id": "bfd65a0d-54cf-433b-b5cd-cf6b3c7e560e",
   "metadata": {},
   "outputs": [
    {
     "data": {
      "text/html": [
       "<div>\n",
       "<style scoped>\n",
       "    .dataframe tbody tr th:only-of-type {\n",
       "        vertical-align: middle;\n",
       "    }\n",
       "\n",
       "    .dataframe tbody tr th {\n",
       "        vertical-align: top;\n",
       "    }\n",
       "\n",
       "    .dataframe thead th {\n",
       "        text-align: right;\n",
       "    }\n",
       "</style>\n",
       "<table border=\"1\" class=\"dataframe\">\n",
       "  <thead>\n",
       "    <tr style=\"text-align: right;\">\n",
       "      <th></th>\n",
       "      <th>Product</th>\n",
       "      <th>Date</th>\n",
       "      <th>Quantity Sold</th>\n",
       "      <th>Price</th>\n",
       "      <th>Revenue</th>\n",
       "      <th>Location</th>\n",
       "      <th>Category</th>\n",
       "    </tr>\n",
       "  </thead>\n",
       "  <tbody>\n",
       "    <tr>\n",
       "      <th>0</th>\n",
       "      <td>Product_11</td>\n",
       "      <td>2024-01-18</td>\n",
       "      <td>1.0</td>\n",
       "      <td>362.07</td>\n",
       "      <td>362.07</td>\n",
       "      <td>Chennai</td>\n",
       "      <td>Fashion</td>\n",
       "    </tr>\n",
       "    <tr>\n",
       "      <th>1</th>\n",
       "      <td>Product_29</td>\n",
       "      <td>2024-02-14</td>\n",
       "      <td>9.0</td>\n",
       "      <td>408.26</td>\n",
       "      <td>3674.34</td>\n",
       "      <td>Hyderabad</td>\n",
       "      <td>Fashion</td>\n",
       "    </tr>\n",
       "    <tr>\n",
       "      <th>2</th>\n",
       "      <td>Product_45</td>\n",
       "      <td>2024-03-23</td>\n",
       "      <td>7.0</td>\n",
       "      <td>143.69</td>\n",
       "      <td>1005.83</td>\n",
       "      <td>Chennai</td>\n",
       "      <td>Groceries</td>\n",
       "    </tr>\n",
       "    <tr>\n",
       "      <th>3</th>\n",
       "      <td>Product_30</td>\n",
       "      <td>2024-04-11</td>\n",
       "      <td>17.0</td>\n",
       "      <td>433.04</td>\n",
       "      <td>7361.68</td>\n",
       "      <td>Delhi</td>\n",
       "      <td>Beauty</td>\n",
       "    </tr>\n",
       "    <tr>\n",
       "      <th>4</th>\n",
       "      <td>Product_3</td>\n",
       "      <td>2024-01-28</td>\n",
       "      <td>11.0</td>\n",
       "      <td>150.73</td>\n",
       "      <td>1658.03</td>\n",
       "      <td>Mumbai</td>\n",
       "      <td>Stationery</td>\n",
       "    </tr>\n",
       "  </tbody>\n",
       "</table>\n",
       "</div>"
      ],
      "text/plain": [
       "      Product       Date  Quantity Sold   Price  Revenue   Location  \\\n",
       "0  Product_11 2024-01-18            1.0  362.07   362.07    Chennai   \n",
       "1  Product_29 2024-02-14            9.0  408.26  3674.34  Hyderabad   \n",
       "2  Product_45 2024-03-23            7.0  143.69  1005.83    Chennai   \n",
       "3  Product_30 2024-04-11           17.0  433.04  7361.68      Delhi   \n",
       "4   Product_3 2024-01-28           11.0  150.73  1658.03     Mumbai   \n",
       "\n",
       "     Category  \n",
       "0     Fashion  \n",
       "1     Fashion  \n",
       "2   Groceries  \n",
       "3      Beauty  \n",
       "4  Stationery  "
      ]
     },
     "execution_count": 9,
     "metadata": {},
     "output_type": "execute_result"
    }
   ],
   "source": [
    "df = df.drop_duplicates()\n",
    "df.head()"
   ]
  },
  {
   "cell_type": "code",
   "execution_count": 10,
   "id": "81b8dd50-b940-4f7b-8865-0393f6cf2cbb",
   "metadata": {},
   "outputs": [
    {
     "data": {
      "text/plain": [
       "(9000, 7)"
      ]
     },
     "execution_count": 10,
     "metadata": {},
     "output_type": "execute_result"
    }
   ],
   "source": [
    "df.shape"
   ]
  },
  {
   "cell_type": "code",
   "execution_count": 11,
   "id": "79ebeb3e-c9d8-4e8a-8311-911120ee3580",
   "metadata": {},
   "outputs": [],
   "source": [
    "# Get list of valid products\n",
    "all_products = df['Product'].dropna().unique()\n",
    "\n",
    "full_data = []\n",
    "\n",
    "for product in all_products:\n",
    "    prod_df = df[df['Product'] == product].copy()\n",
    "    prod_df = prod_df.groupby('Date')['Quantity Sold'].sum().reset_index()\n",
    "    prod_df['Date'] = pd.to_datetime(prod_df['Date'])\n",
    "\n",
    "    # Skip if product has no valid dates\n",
    "    if prod_df['Date'].isna().all():\n",
    "        continue\n",
    "\n",
    "    if pd.isna(prod_df['Date'].min()) or pd.isna(prod_df['Date'].max()):\n",
    "        continue\n",
    "\n",
    "    # Create full daily date range\n",
    "    full_dates = pd.date_range(start=prod_df['Date'].min(), end=prod_df['Date'].max())\n",
    "    full_df = pd.DataFrame({'Date': full_dates})\n",
    "    full_df = full_df.merge(prod_df, on='Date', how='left')\n",
    "    full_df['Quantity Sold'].fillna(0, inplace=True)\n",
    "    full_df['Product'] = product\n",
    "\n",
    "    full_data.append(full_df)\n",
    "\n",
    "# Combine all products into final DataFrame\n",
    "df = pd.concat(full_data, ignore_index=True)\n"
   ]
  },
  {
   "cell_type": "code",
   "execution_count": 12,
   "id": "4f5a90f3-2942-494c-bcc2-64711437fd56",
   "metadata": {},
   "outputs": [
    {
     "name": "stdout",
     "output_type": "stream",
     "text": [
      "Top 5 selling products:\n",
      "Product\n",
      "Product_25    181\n",
      "Product_9     181\n",
      "Product_27    181\n",
      "Product_48    181\n",
      "Product_32    181\n",
      "Name: count, dtype: int64\n"
     ]
    }
   ],
   "source": [
    "print(\"Top 5 selling products:\")\n",
    "print(df['Product'].value_counts().head())"
   ]
  },
  {
   "cell_type": "code",
   "execution_count": 13,
   "id": "c0e8b2d9-186f-40b5-9a21-977acdd883ba",
   "metadata": {},
   "outputs": [],
   "source": [
    "# Aggregate sales per product per date\n",
    "grouped = df.groupby(['Product', df['Date'].dt.date])['Quantity Sold'].sum().reset_index()\n",
    "grouped['Date'] = pd.to_datetime(grouped['Date'])"
   ]
  },
  {
   "cell_type": "code",
   "execution_count": 14,
   "id": "f8a766da-0f5b-4b7d-8ae2-8017f228dd7a",
   "metadata": {},
   "outputs": [
    {
     "data": {
      "image/png": "[encoded data removed]",
      "text/plain": [
       "<Figure size 1000x500 with 1 Axes>"
      ]
     },
     "metadata": {},
     "output_type": "display_data"
    }
   ],
   "source": [
    "# Visualize sales trend for a top product\n",
    "product_to_plot = grouped['Product'].value_counts().index[0]\n",
    "sample_product = grouped[grouped['Product'] == product_to_plot]\n",
    "plt.figure(figsize=(10,5))\n",
    "sns.lineplot(data=sample_product, x='Date', y='Quantity Sold')\n",
    "plt.title(f\"Sales Trend for {product_to_plot}\")\n",
    "plt.xticks(rotation=45)\n",
    "plt.tight_layout()\n",
    "plt.show()"
   ]
  },
  {
   "cell_type": "code",
   "execution_count": 15,
   "id": "25ba418c-1dd7-4c27-aad4-989af3f2f273",
   "metadata": {},
   "outputs": [],
   "source": [
    "# Forecast and restock logic\n",
    "restock_data = []\n",
    "for product in grouped['Product'].unique():\n",
    "    product_df = grouped[grouped['Product'] == product].sort_values(\"Date\")\n",
    "    product_df['Day'] = np.arange(len(product_df))\n",
    "\n",
    "    if len(product_df) < 5:\n",
    "        continue\n",
    "\n",
    "    X = product_df[['Day']]\n",
    "    y = product_df['Quantity Sold']\n",
    "    model = LinearRegression()\n",
    "    model.fit(X, y)\n",
    "\n",
    "    future_days = np.array([[len(product_df) + i] for i in range(1, 8)])\n",
    "    forecast = model.predict(future_days).sum()\n",
    "\n",
    "    current_stock = 20\n",
    "    buffer_stock = 5\n",
    "\n",
    "    restock_data.append({\n",
    "        'Product': product,\n",
    "        'Forecasted Demand (7 Days)': round(forecast),\n",
    "        'Current Stock': current_stock,\n",
    "        'Recommended Restock': max(0, round(forecast) - current_stock + buffer_stock)\n",
    "    })\n",
    "    "
   ]
  },
  {
   "cell_type": "code",
   "execution_count": 16,
   "id": "2f9c2f4b-331c-4f19-8a5b-919108442759",
   "metadata": {},
   "outputs": [
    {
     "name": "stdout",
     "output_type": "stream",
     "text": [
      "\n",
      "Sample Restock Plan:\n",
      "      Product  Forecasted Demand (7 Days)  Current Stock  Recommended Restock\n",
      "0   Product_1                          66             20                   51\n",
      "1  Product_10                          68             20                   53\n",
      "2  Product_11                          84             20                   69\n",
      "3  Product_12                          77             20                   62\n",
      "4  Product_13                          84             20                   69\n"
     ]
    }
   ],
   "source": [
    "restock_df = pd.DataFrame(restock_data)\n",
    "print(\"\\nSample Restock Plan:\")\n",
    "print(restock_df.head())\n"
   ]
  },
  {
   "cell_type": "code",
   "execution_count": 17,
   "id": "b04ffaf0-bc9e-4587-a569-21b294cafe0d",
   "metadata": {},
   "outputs": [
    {
     "name": "stdout",
     "output_type": "stream",
     "text": [
      "\n",
      "Restock plan saved as 'restock_plan_output.csv'.\n"
     ]
    }
   ],
   "source": [
    "# Export restock plan\n",
    "restock_df.to_csv(\"restock_plan_output.csv\", index=False)\n",
    "print(\"\\nRestock plan saved as 'restock_plan_output.csv'.\")"
   ]
  },
  {
   "cell_type": "code",
   "execution_count": null,
   "id": "ba475060-4d8f-4c16-b365-846a144fd4e9",
   "metadata": {},
   "outputs": [],
   "source": []
  },
  {
   "cell_type": "code",
   "execution_count": null,
   "id": "91bcf167-cf60-4055-bb97-0303cadaeff3",
   "metadata": {},
   "outputs": [],
   "source": []
  }
 ],
 "metadata": {
  "kernelspec": {
   "display_name": "Python 3 (ipykernel)",
   "language": "python",
   "name": "python3"
  },
  "language_info": {
   "codemirror_mode": {
    "name": "ipython",
    "version": 3
   },
   "file_extension": ".py",
   "mimetype": "text/x-python",
   "name": "python",
   "nbconvert_exporter": "python",
   "pygments_lexer": "ipython3",
   "version": "3.12.7"
  }
 },
 "nbformat": 4,
 "nbformat_minor": 5
}
